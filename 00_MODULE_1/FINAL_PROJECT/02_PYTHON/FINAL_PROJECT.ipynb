{
 "cells": [
  {
   "cell_type": "markdown",
   "id": "a30e57dc",
   "metadata": {},
   "source": [
    "# <center> <b> FINAL PROJECT"
   ]
  },
  {
   "cell_type": "markdown",
   "id": "6fb1a0f0",
   "metadata": {},
   "source": [
    "Perform some operations on dataset \"HR Analytics Data\"\\\n",
    "Member:\\\n",
    "Đào Minh Thuấn\\\n",
    "Lương Phương Thúy\n",
    "+ Using pandas to clean dataset.\n",
    "+ Dataset: https://www.kaggle.com/datasets/thuandao/clustered-hr-data"
   ]
  },
  {
   "cell_type": "code",
   "execution_count": 1,
   "id": "f5c20f99",
   "metadata": {},
   "outputs": [],
   "source": [
    "# Import data\n",
    "import pandas as pd\n",
    "import seaborn as sns"
   ]
  },
  {
   "cell_type": "code",
   "execution_count": null,
   "id": "3083ff48",
   "metadata": {},
   "outputs": [
    {
     "data": {
      "text/html": [
       "<div>\n",
       "<style scoped>\n",
       "    .dataframe tbody tr th:only-of-type {\n",
       "        vertical-align: middle;\n",
       "    }\n",
       "\n",
       "    .dataframe tbody tr th {\n",
       "        vertical-align: top;\n",
       "    }\n",
       "\n",
       "    .dataframe thead th {\n",
       "        text-align: right;\n",
       "    }\n",
       "</style>\n",
       "<table border=\"1\" class=\"dataframe\">\n",
       "  <thead>\n",
       "    <tr style=\"text-align: right;\">\n",
       "      <th></th>\n",
       "      <th>Age\\tAttrition\\tBusinessTravel\\tDailyRate\\tDepartment\\tDistanceFromHome\\tEducation\\tEducationField\\tEmployeeCount\\tEmployeeNumber\\tEnvironmentSatisfaction\\tGender\\tHourlyRate\\tJobInvolvement\\tJobLevel\\tJobRole\\tJobSatisfaction\\tMaritalStatus\\tMonthlyIncome\\tMonthlyRate\\tNumCompaniesWorked\\tOver18\\tOverTime\\tPercentSalaryHike\\tPerformanceRating\\tRelationshipSatisfaction\\tStandardHours\\tStockOptionLevel\\tTotalWorkingYears\\tTrainingTimesLastYear\\tWorkLifeBalance\\tYearsAtCompany\\tYearsInCurrentRole\\tYearsSinceLastPromotion\\tYearsWithCurrManager</th>\n",
       "    </tr>\n",
       "  </thead>\n",
       "  <tbody>\n",
       "    <tr>\n",
       "      <th>0</th>\n",
       "      <td>41\\tYes\\tTravel_Rarely\\t1102\\tSales\\t1\\t2\\tLif...</td>\n",
       "    </tr>\n",
       "    <tr>\n",
       "      <th>1</th>\n",
       "      <td>49\\tNo\\tTravel_Frequently\\t279\\tResearch &amp; Dev...</td>\n",
       "    </tr>\n",
       "    <tr>\n",
       "      <th>2</th>\n",
       "      <td>37\\tYes\\tTravel_Rarely\\t1373\\tResearch &amp; Devel...</td>\n",
       "    </tr>\n",
       "    <tr>\n",
       "      <th>3</th>\n",
       "      <td>33\\tNo\\tTravel_Frequently\\t1392\\tResearch &amp; De...</td>\n",
       "    </tr>\n",
       "    <tr>\n",
       "      <th>4</th>\n",
       "      <td>27\\tNo\\tTravel_Rarely\\t591\\tResearch &amp; Develop...</td>\n",
       "    </tr>\n",
       "    <tr>\n",
       "      <th>...</th>\n",
       "      <td>...</td>\n",
       "    </tr>\n",
       "    <tr>\n",
       "      <th>1465</th>\n",
       "      <td>36\\tNo\\tTravel_Frequently\\t884\\tResearch &amp; Dev...</td>\n",
       "    </tr>\n",
       "    <tr>\n",
       "      <th>1466</th>\n",
       "      <td>39\\tNo\\tTravel_Rarely\\t613\\tResearch &amp; Develop...</td>\n",
       "    </tr>\n",
       "    <tr>\n",
       "      <th>1467</th>\n",
       "      <td>27\\tNo\\tTravel_Rarely\\t155\\tResearch &amp; Develop...</td>\n",
       "    </tr>\n",
       "    <tr>\n",
       "      <th>1468</th>\n",
       "      <td>49\\tNo\\tTravel_Frequently\\t1023\\tSales\\t2\\t3\\t...</td>\n",
       "    </tr>\n",
       "    <tr>\n",
       "      <th>1469</th>\n",
       "      <td>34\\tNo\\tTravel_Rarely\\t628\\tResearch &amp; Develop...</td>\n",
       "    </tr>\n",
       "  </tbody>\n",
       "</table>\n",
       "<p>1470 rows × 1 columns</p>\n",
       "</div>"
      ],
      "text/plain": [
       "     Age\\tAttrition\\tBusinessTravel\\tDailyRate\\tDepartment\\tDistanceFromHome\\tEducation\\tEducationField\\tEmployeeCount\\tEmployeeNumber\\tEnvironmentSatisfaction\\tGender\\tHourlyRate\\tJobInvolvement\\tJobLevel\\tJobRole\\tJobSatisfaction\\tMaritalStatus\\tMonthlyIncome\\tMonthlyRate\\tNumCompaniesWorked\\tOver18\\tOverTime\\tPercentSalaryHike\\tPerformanceRating\\tRelationshipSatisfaction\\tStandardHours\\tStockOptionLevel\\tTotalWorkingYears\\tTrainingTimesLastYear\\tWorkLifeBalance\\tYearsAtCompany\\tYearsInCurrentRole\\tYearsSinceLastPromotion\\tYearsWithCurrManager\n",
       "0     41\\tYes\\tTravel_Rarely\\t1102\\tSales\\t1\\t2\\tLif...                                                                                                                                                                                                                                                                                                                                                                                                                                                                                                                \n",
       "1     49\\tNo\\tTravel_Frequently\\t279\\tResearch & Dev...                                                                                                                                                                                                                                                                                                                                                                                                                                                                                                                \n",
       "2     37\\tYes\\tTravel_Rarely\\t1373\\tResearch & Devel...                                                                                                                                                                                                                                                                                                                                                                                                                                                                                                                \n",
       "3     33\\tNo\\tTravel_Frequently\\t1392\\tResearch & De...                                                                                                                                                                                                                                                                                                                                                                                                                                                                                                                \n",
       "4     27\\tNo\\tTravel_Rarely\\t591\\tResearch & Develop...                                                                                                                                                                                                                                                                                                                                                                                                                                                                                                                \n",
       "...                                                 ...                                                                                                                                                                                                                                                                                                                                                                                                                                                                                                                \n",
       "1465  36\\tNo\\tTravel_Frequently\\t884\\tResearch & Dev...                                                                                                                                                                                                                                                                                                                                                                                                                                                                                                                \n",
       "1466  39\\tNo\\tTravel_Rarely\\t613\\tResearch & Develop...                                                                                                                                                                                                                                                                                                                                                                                                                                                                                                                \n",
       "1467  27\\tNo\\tTravel_Rarely\\t155\\tResearch & Develop...                                                                                                                                                                                                                                                                                                                                                                                                                                                                                                                \n",
       "1468  49\\tNo\\tTravel_Frequently\\t1023\\tSales\\t2\\t3\\t...                                                                                                                                                                                                                                                                                                                                                                                                                                                                                                                \n",
       "1469  34\\tNo\\tTravel_Rarely\\t628\\tResearch & Develop...                                                                                                                                                                                                                                                                                                                                                                                                                                                                                                                \n",
       "\n",
       "[1470 rows x 1 columns]"
      ]
     },
     "execution_count": 7,
     "metadata": {},
     "output_type": "execute_result"
    }
   ],
   "source": [
    "# Load data frame\n",
    "df = pd.read_csv(\"HR_Analytics_Data.csv\")"
   ]
  },
  {
   "cell_type": "code",
   "execution_count": null,
   "id": "62491032",
   "metadata": {},
   "outputs": [],
   "source": [
    "# Perform split column"
   ]
  }
 ],
 "metadata": {
  "kernelspec": {
   "display_name": "Python 3",
   "language": "python",
   "name": "python3"
  },
  "language_info": {
   "codemirror_mode": {
    "name": "ipython",
    "version": 3
   },
   "file_extension": ".py",
   "mimetype": "text/x-python",
   "name": "python",
   "nbconvert_exporter": "python",
   "pygments_lexer": "ipython3",
   "version": "3.13.2"
  }
 },
 "nbformat": 4,
 "nbformat_minor": 5
}
