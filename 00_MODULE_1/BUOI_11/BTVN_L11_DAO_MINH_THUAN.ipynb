{
 "cells": [
  {
   "cell_type": "markdown",
   "id": "e1db9613",
   "metadata": {},
   "source": [
    "# <center> <b> LECTURE 03: BTVN_L11_DAO_MINH_THUAN"
   ]
  },
  {
   "cell_type": "code",
   "execution_count": 104,
   "id": "bab836f3",
   "metadata": {},
   "outputs": [],
   "source": [
    "import pandas as pd\n",
    "import seaborn as sns"
   ]
  },
  {
   "cell_type": "code",
   "execution_count": 81,
   "id": "38980b33",
   "metadata": {},
   "outputs": [],
   "source": [
    "# Import data practice sales\n",
    "df = pd.read_csv(\"Data_Practices_Sales.csv\")"
   ]
  },
  {
   "cell_type": "code",
   "execution_count": 82,
   "id": "0a605f1d",
   "metadata": {},
   "outputs": [
    {
     "data": {
      "text/html": [
       "<div>\n",
       "<style scoped>\n",
       "    .dataframe tbody tr th:only-of-type {\n",
       "        vertical-align: middle;\n",
       "    }\n",
       "\n",
       "    .dataframe tbody tr th {\n",
       "        vertical-align: top;\n",
       "    }\n",
       "\n",
       "    .dataframe thead th {\n",
       "        text-align: right;\n",
       "    }\n",
       "</style>\n",
       "<table border=\"1\" class=\"dataframe\">\n",
       "  <thead>\n",
       "    <tr style=\"text-align: right;\">\n",
       "      <th></th>\n",
       "      <th>Order Line</th>\n",
       "      <th>Order ID</th>\n",
       "      <th>Order Date</th>\n",
       "      <th>Ship Date</th>\n",
       "      <th>Ship Mode</th>\n",
       "      <th>Customer ID</th>\n",
       "      <th>Product ID</th>\n",
       "      <th>Category</th>\n",
       "      <th>Sub-Category</th>\n",
       "      <th>Sales</th>\n",
       "      <th>Quantity</th>\n",
       "      <th>Profit</th>\n",
       "    </tr>\n",
       "  </thead>\n",
       "  <tbody>\n",
       "    <tr>\n",
       "      <th>0</th>\n",
       "      <td>1</td>\n",
       "      <td>CA-2016-152156</td>\n",
       "      <td>11/08/2016</td>\n",
       "      <td>11/11/2016</td>\n",
       "      <td>Second Class</td>\n",
       "      <td>CG-12520</td>\n",
       "      <td>FUR-BO-10001798</td>\n",
       "      <td>Furniture</td>\n",
       "      <td>Bookcases</td>\n",
       "      <td>261.96</td>\n",
       "      <td>2</td>\n",
       "      <td>41.91</td>\n",
       "    </tr>\n",
       "    <tr>\n",
       "      <th>1</th>\n",
       "      <td>2</td>\n",
       "      <td>CA-2016-152156</td>\n",
       "      <td>11/08/2016</td>\n",
       "      <td>11/11/2016</td>\n",
       "      <td>Second Class</td>\n",
       "      <td>CG-12520</td>\n",
       "      <td>FUR-CH-10000454</td>\n",
       "      <td>Furniture</td>\n",
       "      <td>Chairs</td>\n",
       "      <td>731.94</td>\n",
       "      <td>3</td>\n",
       "      <td>219.58</td>\n",
       "    </tr>\n",
       "    <tr>\n",
       "      <th>2</th>\n",
       "      <td>3</td>\n",
       "      <td>CA-2016-138688</td>\n",
       "      <td>06/12/2016</td>\n",
       "      <td>6/16/2016</td>\n",
       "      <td>Second Class</td>\n",
       "      <td>DV-13045</td>\n",
       "      <td>OFF-LA-10000240</td>\n",
       "      <td>Office Supplies</td>\n",
       "      <td>Labels</td>\n",
       "      <td>14.62</td>\n",
       "      <td>2</td>\n",
       "      <td>6.87</td>\n",
       "    </tr>\n",
       "    <tr>\n",
       "      <th>3</th>\n",
       "      <td>4</td>\n",
       "      <td>US-2015-108966</td>\n",
       "      <td>10/11/2015</td>\n",
       "      <td>10/18/2015</td>\n",
       "      <td>Standard Class</td>\n",
       "      <td>SO-20335</td>\n",
       "      <td>FUR-TA-10000577</td>\n",
       "      <td>Furniture</td>\n",
       "      <td>Tables</td>\n",
       "      <td>957.58</td>\n",
       "      <td>5</td>\n",
       "      <td>-383.03</td>\n",
       "    </tr>\n",
       "    <tr>\n",
       "      <th>4</th>\n",
       "      <td>5</td>\n",
       "      <td>US-2015-108966</td>\n",
       "      <td>10/11/2015</td>\n",
       "      <td>10/18/2015</td>\n",
       "      <td>Standard Class</td>\n",
       "      <td>SO-20335</td>\n",
       "      <td>OFF-ST-10000760</td>\n",
       "      <td>Office Supplies</td>\n",
       "      <td>Storage</td>\n",
       "      <td>22.37</td>\n",
       "      <td>2</td>\n",
       "      <td>2.52</td>\n",
       "    </tr>\n",
       "  </tbody>\n",
       "</table>\n",
       "</div>"
      ],
      "text/plain": [
       "   Order Line        Order ID  Order Date   Ship Date       Ship Mode  \\\n",
       "0           1  CA-2016-152156  11/08/2016  11/11/2016    Second Class   \n",
       "1           2  CA-2016-152156  11/08/2016  11/11/2016    Second Class   \n",
       "2           3  CA-2016-138688  06/12/2016   6/16/2016    Second Class   \n",
       "3           4  US-2015-108966  10/11/2015  10/18/2015  Standard Class   \n",
       "4           5  US-2015-108966  10/11/2015  10/18/2015  Standard Class   \n",
       "\n",
       "  Customer ID       Product ID         Category Sub-Category   Sales  \\\n",
       "0    CG-12520  FUR-BO-10001798        Furniture    Bookcases  261.96   \n",
       "1    CG-12520  FUR-CH-10000454        Furniture       Chairs  731.94   \n",
       "2    DV-13045  OFF-LA-10000240  Office Supplies       Labels   14.62   \n",
       "3    SO-20335  FUR-TA-10000577        Furniture       Tables  957.58   \n",
       "4    SO-20335  OFF-ST-10000760  Office Supplies      Storage   22.37   \n",
       "\n",
       "   Quantity  Profit  \n",
       "0         2   41.91  \n",
       "1         3  219.58  \n",
       "2         2    6.87  \n",
       "3         5 -383.03  \n",
       "4         2    2.52  "
      ]
     },
     "execution_count": 82,
     "metadata": {},
     "output_type": "execute_result"
    }
   ],
   "source": [
    "# overview data\n",
    "df.head()"
   ]
  },
  {
   "cell_type": "code",
   "execution_count": 83,
   "id": "515c24af",
   "metadata": {},
   "outputs": [
    {
     "name": "stdout",
     "output_type": "stream",
     "text": [
      "<class 'pandas.core.frame.DataFrame'>\n",
      "RangeIndex: 9994 entries, 0 to 9993\n",
      "Data columns (total 12 columns):\n",
      " #   Column        Non-Null Count  Dtype  \n",
      "---  ------        --------------  -----  \n",
      " 0   Order Line    9994 non-null   int64  \n",
      " 1   Order ID      9992 non-null   object \n",
      " 2   Order Date    9994 non-null   object \n",
      " 3   Ship Date     9994 non-null   object \n",
      " 4   Ship Mode     9994 non-null   object \n",
      " 5   Customer ID   9994 non-null   object \n",
      " 6   Product ID    9994 non-null   object \n",
      " 7   Category      9994 non-null   object \n",
      " 8   Sub-Category  9994 non-null   object \n",
      " 9   Sales         9991 non-null   float64\n",
      " 10  Quantity      9994 non-null   int64  \n",
      " 11  Profit        9994 non-null   float64\n",
      "dtypes: float64(2), int64(2), object(8)\n",
      "memory usage: 937.1+ KB\n"
     ]
    }
   ],
   "source": [
    "#check each column's type\n",
    "df.info()"
   ]
  },
  {
   "cell_type": "code",
   "execution_count": 84,
   "id": "d5996cc2",
   "metadata": {},
   "outputs": [
    {
     "data": {
      "text/html": [
       "<div>\n",
       "<style scoped>\n",
       "    .dataframe tbody tr th:only-of-type {\n",
       "        vertical-align: middle;\n",
       "    }\n",
       "\n",
       "    .dataframe tbody tr th {\n",
       "        vertical-align: top;\n",
       "    }\n",
       "\n",
       "    .dataframe thead th {\n",
       "        text-align: right;\n",
       "    }\n",
       "</style>\n",
       "<table border=\"1\" class=\"dataframe\">\n",
       "  <thead>\n",
       "    <tr style=\"text-align: right;\">\n",
       "      <th></th>\n",
       "      <th>Order Line</th>\n",
       "      <th>Sales</th>\n",
       "      <th>Quantity</th>\n",
       "      <th>Profit</th>\n",
       "    </tr>\n",
       "  </thead>\n",
       "  <tbody>\n",
       "    <tr>\n",
       "      <th>count</th>\n",
       "      <td>9994.000000</td>\n",
       "      <td>9991.000000</td>\n",
       "      <td>9994.000000</td>\n",
       "      <td>9994.000000</td>\n",
       "    </tr>\n",
       "    <tr>\n",
       "      <th>mean</th>\n",
       "      <td>4997.500000</td>\n",
       "      <td>229.605663</td>\n",
       "      <td>3.789574</td>\n",
       "      <td>28.656973</td>\n",
       "    </tr>\n",
       "    <tr>\n",
       "      <th>std</th>\n",
       "      <td>2885.163629</td>\n",
       "      <td>622.679465</td>\n",
       "      <td>2.225110</td>\n",
       "      <td>234.260203</td>\n",
       "    </tr>\n",
       "    <tr>\n",
       "      <th>min</th>\n",
       "      <td>1.000000</td>\n",
       "      <td>0.440000</td>\n",
       "      <td>1.000000</td>\n",
       "      <td>-6599.980000</td>\n",
       "    </tr>\n",
       "    <tr>\n",
       "      <th>25%</th>\n",
       "      <td>2499.250000</td>\n",
       "      <td>17.280000</td>\n",
       "      <td>2.000000</td>\n",
       "      <td>1.730000</td>\n",
       "    </tr>\n",
       "    <tr>\n",
       "      <th>50%</th>\n",
       "      <td>4997.500000</td>\n",
       "      <td>54.480000</td>\n",
       "      <td>3.000000</td>\n",
       "      <td>8.665000</td>\n",
       "    </tr>\n",
       "    <tr>\n",
       "      <th>75%</th>\n",
       "      <td>7495.750000</td>\n",
       "      <td>209.940000</td>\n",
       "      <td>5.000000</td>\n",
       "      <td>29.360000</td>\n",
       "    </tr>\n",
       "    <tr>\n",
       "      <th>max</th>\n",
       "      <td>9994.000000</td>\n",
       "      <td>22638.480000</td>\n",
       "      <td>14.000000</td>\n",
       "      <td>8399.980000</td>\n",
       "    </tr>\n",
       "  </tbody>\n",
       "</table>\n",
       "</div>"
      ],
      "text/plain": [
       "        Order Line         Sales     Quantity       Profit\n",
       "count  9994.000000   9991.000000  9994.000000  9994.000000\n",
       "mean   4997.500000    229.605663     3.789574    28.656973\n",
       "std    2885.163629    622.679465     2.225110   234.260203\n",
       "min       1.000000      0.440000     1.000000 -6599.980000\n",
       "25%    2499.250000     17.280000     2.000000     1.730000\n",
       "50%    4997.500000     54.480000     3.000000     8.665000\n",
       "75%    7495.750000    209.940000     5.000000    29.360000\n",
       "max    9994.000000  22638.480000    14.000000  8399.980000"
      ]
     },
     "execution_count": 84,
     "metadata": {},
     "output_type": "execute_result"
    }
   ],
   "source": [
    "# Check the statistics\n",
    "df.describe()"
   ]
  },
  {
   "cell_type": "code",
   "execution_count": 85,
   "id": "d877b11c",
   "metadata": {},
   "outputs": [
    {
     "data": {
      "text/plain": [
       "Order Line      0\n",
       "Order ID        2\n",
       "Order Date      0\n",
       "Ship Date       0\n",
       "Ship Mode       0\n",
       "Customer ID     0\n",
       "Product ID      0\n",
       "Category        0\n",
       "Sub-Category    0\n",
       "Sales           3\n",
       "Quantity        0\n",
       "Profit          0\n",
       "dtype: int64"
      ]
     },
     "execution_count": 85,
     "metadata": {},
     "output_type": "execute_result"
    }
   ],
   "source": [
    "# Lấy thông tin NULL của frame\n",
    "df.isnull().sum()"
   ]
  },
  {
   "cell_type": "code",
   "execution_count": 86,
   "id": "760e1fdc",
   "metadata": {},
   "outputs": [
    {
     "data": {
      "text/html": [
       "<div>\n",
       "<style scoped>\n",
       "    .dataframe tbody tr th:only-of-type {\n",
       "        vertical-align: middle;\n",
       "    }\n",
       "\n",
       "    .dataframe tbody tr th {\n",
       "        vertical-align: top;\n",
       "    }\n",
       "\n",
       "    .dataframe thead th {\n",
       "        text-align: right;\n",
       "    }\n",
       "</style>\n",
       "<table border=\"1\" class=\"dataframe\">\n",
       "  <thead>\n",
       "    <tr style=\"text-align: right;\">\n",
       "      <th></th>\n",
       "      <th>Order Line</th>\n",
       "      <th>Order ID</th>\n",
       "      <th>Order Date</th>\n",
       "      <th>Ship Date</th>\n",
       "      <th>Ship Mode</th>\n",
       "      <th>Customer ID</th>\n",
       "      <th>Product ID</th>\n",
       "      <th>Category</th>\n",
       "      <th>Sub-Category</th>\n",
       "      <th>Sales</th>\n",
       "      <th>Quantity</th>\n",
       "      <th>Profit</th>\n",
       "    </tr>\n",
       "  </thead>\n",
       "  <tbody>\n",
       "    <tr>\n",
       "      <th>20</th>\n",
       "      <td>21</td>\n",
       "      <td>NaN</td>\n",
       "      <td>8/27/2014</td>\n",
       "      <td>09/01/2014</td>\n",
       "      <td>Second Class</td>\n",
       "      <td>ZD-21925</td>\n",
       "      <td>OFF-BI-10002215</td>\n",
       "      <td>Office Supplies</td>\n",
       "      <td>Binders</td>\n",
       "      <td>22.72</td>\n",
       "      <td>4</td>\n",
       "      <td>7.38</td>\n",
       "    </tr>\n",
       "    <tr>\n",
       "      <th>21</th>\n",
       "      <td>22</td>\n",
       "      <td>NaN</td>\n",
       "      <td>12/09/2016</td>\n",
       "      <td>12/13/2016</td>\n",
       "      <td>Standard Class</td>\n",
       "      <td>KB-16585</td>\n",
       "      <td>OFF-AR-10000246</td>\n",
       "      <td>Office Supplies</td>\n",
       "      <td>Art</td>\n",
       "      <td>19.46</td>\n",
       "      <td>7</td>\n",
       "      <td>5.06</td>\n",
       "    </tr>\n",
       "  </tbody>\n",
       "</table>\n",
       "</div>"
      ],
      "text/plain": [
       "    Order Line Order ID  Order Date   Ship Date       Ship Mode Customer ID  \\\n",
       "20          21      NaN   8/27/2014  09/01/2014    Second Class    ZD-21925   \n",
       "21          22      NaN  12/09/2016  12/13/2016  Standard Class    KB-16585   \n",
       "\n",
       "         Product ID         Category Sub-Category  Sales  Quantity  Profit  \n",
       "20  OFF-BI-10002215  Office Supplies      Binders  22.72         4    7.38  \n",
       "21  OFF-AR-10000246  Office Supplies          Art  19.46         7    5.06  "
      ]
     },
     "execution_count": 86,
     "metadata": {},
     "output_type": "execute_result"
    }
   ],
   "source": [
    "# Lấy ra thông tin NULL của column Order ID\n",
    "df[df['Order ID'].isnull()]"
   ]
  },
  {
   "cell_type": "code",
   "execution_count": 87,
   "id": "2aa8c89c",
   "metadata": {},
   "outputs": [
    {
     "data": {
      "text/html": [
       "<div>\n",
       "<style scoped>\n",
       "    .dataframe tbody tr th:only-of-type {\n",
       "        vertical-align: middle;\n",
       "    }\n",
       "\n",
       "    .dataframe tbody tr th {\n",
       "        vertical-align: top;\n",
       "    }\n",
       "\n",
       "    .dataframe thead th {\n",
       "        text-align: right;\n",
       "    }\n",
       "</style>\n",
       "<table border=\"1\" class=\"dataframe\">\n",
       "  <thead>\n",
       "    <tr style=\"text-align: right;\">\n",
       "      <th></th>\n",
       "      <th>Order Line</th>\n",
       "      <th>Order ID</th>\n",
       "      <th>Order Date</th>\n",
       "      <th>Ship Date</th>\n",
       "      <th>Ship Mode</th>\n",
       "      <th>Customer ID</th>\n",
       "      <th>Product ID</th>\n",
       "      <th>Category</th>\n",
       "      <th>Sub-Category</th>\n",
       "      <th>Sales</th>\n",
       "      <th>Quantity</th>\n",
       "      <th>Profit</th>\n",
       "    </tr>\n",
       "  </thead>\n",
       "  <tbody>\n",
       "    <tr>\n",
       "      <th>27</th>\n",
       "      <td>28</td>\n",
       "      <td>US-2015-150630</td>\n",
       "      <td>9/17/2015</td>\n",
       "      <td>9/21/2015</td>\n",
       "      <td>Standard Class</td>\n",
       "      <td>TB-21520</td>\n",
       "      <td>FUR-BO-10004834</td>\n",
       "      <td>Furniture</td>\n",
       "      <td>Bookcases</td>\n",
       "      <td>NaN</td>\n",
       "      <td>7</td>\n",
       "      <td>-1665.05</td>\n",
       "    </tr>\n",
       "    <tr>\n",
       "      <th>29</th>\n",
       "      <td>30</td>\n",
       "      <td>US-2015-150630</td>\n",
       "      <td>9/17/2015</td>\n",
       "      <td>9/21/2015</td>\n",
       "      <td>Standard Class</td>\n",
       "      <td>TB-21520</td>\n",
       "      <td>FUR-FU-10004848</td>\n",
       "      <td>Furniture</td>\n",
       "      <td>Furnishings</td>\n",
       "      <td>NaN</td>\n",
       "      <td>3</td>\n",
       "      <td>15.53</td>\n",
       "    </tr>\n",
       "    <tr>\n",
       "      <th>30</th>\n",
       "      <td>31</td>\n",
       "      <td>US-2015-150630</td>\n",
       "      <td>9/17/2015</td>\n",
       "      <td>9/21/2015</td>\n",
       "      <td>Standard Class</td>\n",
       "      <td>TB-21520</td>\n",
       "      <td>OFF-EN-10001509</td>\n",
       "      <td>Office Supplies</td>\n",
       "      <td>Envelopes</td>\n",
       "      <td>NaN</td>\n",
       "      <td>2</td>\n",
       "      <td>1.10</td>\n",
       "    </tr>\n",
       "  </tbody>\n",
       "</table>\n",
       "</div>"
      ],
      "text/plain": [
       "    Order Line        Order ID Order Date  Ship Date       Ship Mode  \\\n",
       "27          28  US-2015-150630  9/17/2015  9/21/2015  Standard Class   \n",
       "29          30  US-2015-150630  9/17/2015  9/21/2015  Standard Class   \n",
       "30          31  US-2015-150630  9/17/2015  9/21/2015  Standard Class   \n",
       "\n",
       "   Customer ID       Product ID         Category Sub-Category  Sales  \\\n",
       "27    TB-21520  FUR-BO-10004834        Furniture    Bookcases    NaN   \n",
       "29    TB-21520  FUR-FU-10004848        Furniture  Furnishings    NaN   \n",
       "30    TB-21520  OFF-EN-10001509  Office Supplies    Envelopes    NaN   \n",
       "\n",
       "    Quantity   Profit  \n",
       "27         7 -1665.05  \n",
       "29         3    15.53  \n",
       "30         2     1.10  "
      ]
     },
     "execution_count": 87,
     "metadata": {},
     "output_type": "execute_result"
    }
   ],
   "source": [
    "# Lấy ra thông tin NULL của column Sales\n",
    "df[df['Sales'].isnull()]"
   ]
  },
  {
   "cell_type": "code",
   "execution_count": null,
   "id": "c8d0ecdb",
   "metadata": {},
   "outputs": [],
   "source": [
    "# Xoá bỏ các dữ liệu bị trống\n",
    "df.dropna(inplace= True)"
   ]
  },
  {
   "cell_type": "code",
   "execution_count": 98,
   "id": "7afd5c41",
   "metadata": {},
   "outputs": [
    {
     "data": {
      "text/plain": [
       "Order Line      0\n",
       "Order ID        0\n",
       "Order Date      0\n",
       "Ship Date       0\n",
       "Ship Mode       0\n",
       "Customer ID     0\n",
       "Product ID      0\n",
       "Category        0\n",
       "Sub-Category    0\n",
       "Sales           0\n",
       "Quantity        0\n",
       "Profit          0\n",
       "dtype: int64"
      ]
     },
     "execution_count": 98,
     "metadata": {},
     "output_type": "execute_result"
    }
   ],
   "source": [
    "# Check lại dữ liệu đã được xoá các hàng trống chưa\n",
    "df.isnull().sum()"
   ]
  },
  {
   "cell_type": "code",
   "execution_count": 101,
   "id": "a8f7997b",
   "metadata": {},
   "outputs": [
    {
     "data": {
      "text/html": [
       "<div>\n",
       "<style scoped>\n",
       "    .dataframe tbody tr th:only-of-type {\n",
       "        vertical-align: middle;\n",
       "    }\n",
       "\n",
       "    .dataframe tbody tr th {\n",
       "        vertical-align: top;\n",
       "    }\n",
       "\n",
       "    .dataframe thead th {\n",
       "        text-align: right;\n",
       "    }\n",
       "</style>\n",
       "<table border=\"1\" class=\"dataframe\">\n",
       "  <thead>\n",
       "    <tr style=\"text-align: right;\">\n",
       "      <th></th>\n",
       "      <th>Order Line</th>\n",
       "      <th>Sales</th>\n",
       "      <th>Quantity</th>\n",
       "      <th>Profit</th>\n",
       "    </tr>\n",
       "  </thead>\n",
       "  <tbody>\n",
       "    <tr>\n",
       "      <th>0</th>\n",
       "      <td>1</td>\n",
       "      <td>261.96</td>\n",
       "      <td>2</td>\n",
       "      <td>41.91</td>\n",
       "    </tr>\n",
       "    <tr>\n",
       "      <th>1</th>\n",
       "      <td>2</td>\n",
       "      <td>731.94</td>\n",
       "      <td>3</td>\n",
       "      <td>219.58</td>\n",
       "    </tr>\n",
       "    <tr>\n",
       "      <th>2</th>\n",
       "      <td>3</td>\n",
       "      <td>14.62</td>\n",
       "      <td>2</td>\n",
       "      <td>6.87</td>\n",
       "    </tr>\n",
       "    <tr>\n",
       "      <th>3</th>\n",
       "      <td>4</td>\n",
       "      <td>957.58</td>\n",
       "      <td>5</td>\n",
       "      <td>-383.03</td>\n",
       "    </tr>\n",
       "    <tr>\n",
       "      <th>4</th>\n",
       "      <td>5</td>\n",
       "      <td>22.37</td>\n",
       "      <td>2</td>\n",
       "      <td>2.52</td>\n",
       "    </tr>\n",
       "    <tr>\n",
       "      <th>...</th>\n",
       "      <td>...</td>\n",
       "      <td>...</td>\n",
       "      <td>...</td>\n",
       "      <td>...</td>\n",
       "    </tr>\n",
       "    <tr>\n",
       "      <th>9989</th>\n",
       "      <td>9990</td>\n",
       "      <td>25.25</td>\n",
       "      <td>3</td>\n",
       "      <td>4.10</td>\n",
       "    </tr>\n",
       "    <tr>\n",
       "      <th>9990</th>\n",
       "      <td>9991</td>\n",
       "      <td>91.96</td>\n",
       "      <td>2</td>\n",
       "      <td>15.63</td>\n",
       "    </tr>\n",
       "    <tr>\n",
       "      <th>9991</th>\n",
       "      <td>9992</td>\n",
       "      <td>258.58</td>\n",
       "      <td>2</td>\n",
       "      <td>19.39</td>\n",
       "    </tr>\n",
       "    <tr>\n",
       "      <th>9992</th>\n",
       "      <td>9993</td>\n",
       "      <td>29.60</td>\n",
       "      <td>4</td>\n",
       "      <td>13.32</td>\n",
       "    </tr>\n",
       "    <tr>\n",
       "      <th>9993</th>\n",
       "      <td>9994</td>\n",
       "      <td>243.16</td>\n",
       "      <td>2</td>\n",
       "      <td>72.95</td>\n",
       "    </tr>\n",
       "  </tbody>\n",
       "</table>\n",
       "<p>9989 rows × 4 columns</p>\n",
       "</div>"
      ],
      "text/plain": [
       "      Order Line   Sales  Quantity  Profit\n",
       "0              1  261.96         2   41.91\n",
       "1              2  731.94         3  219.58\n",
       "2              3   14.62         2    6.87\n",
       "3              4  957.58         5 -383.03\n",
       "4              5   22.37         2    2.52\n",
       "...          ...     ...       ...     ...\n",
       "9989        9990   25.25         3    4.10\n",
       "9990        9991   91.96         2   15.63\n",
       "9991        9992  258.58         2   19.39\n",
       "9992        9993   29.60         4   13.32\n",
       "9993        9994  243.16         2   72.95\n",
       "\n",
       "[9989 rows x 4 columns]"
      ]
     },
     "execution_count": 101,
     "metadata": {},
     "output_type": "execute_result"
    }
   ],
   "source": [
    "# Tạo 1 frame mới chỉ có 4 coloumn 'Order Line', 'Sales', 'Quantity', 'Profit'\n",
    "newdf = df[['Order Line', 'Sales', 'Quantity', 'Profit']]\n",
    "newdf"
   ]
  },
  {
   "cell_type": "code",
   "execution_count": 102,
   "id": "f3ae288a",
   "metadata": {},
   "outputs": [
    {
     "data": {
      "text/html": [
       "<div>\n",
       "<style scoped>\n",
       "    .dataframe tbody tr th:only-of-type {\n",
       "        vertical-align: middle;\n",
       "    }\n",
       "\n",
       "    .dataframe tbody tr th {\n",
       "        vertical-align: top;\n",
       "    }\n",
       "\n",
       "    .dataframe thead th {\n",
       "        text-align: right;\n",
       "    }\n",
       "</style>\n",
       "<table border=\"1\" class=\"dataframe\">\n",
       "  <thead>\n",
       "    <tr style=\"text-align: right;\">\n",
       "      <th></th>\n",
       "      <th>Order Line</th>\n",
       "      <th>Sales</th>\n",
       "      <th>Quantity</th>\n",
       "      <th>Profit</th>\n",
       "    </tr>\n",
       "  </thead>\n",
       "  <tbody>\n",
       "    <tr>\n",
       "      <th>Order Line</th>\n",
       "      <td>1.000000</td>\n",
       "      <td>-0.000778</td>\n",
       "      <td>-0.003705</td>\n",
       "      <td>0.011225</td>\n",
       "    </tr>\n",
       "    <tr>\n",
       "      <th>Sales</th>\n",
       "      <td>-0.000778</td>\n",
       "      <td>1.000000</td>\n",
       "      <td>0.200414</td>\n",
       "      <td>0.484151</td>\n",
       "    </tr>\n",
       "    <tr>\n",
       "      <th>Quantity</th>\n",
       "      <td>-0.003705</td>\n",
       "      <td>0.200414</td>\n",
       "      <td>1.000000</td>\n",
       "      <td>0.067495</td>\n",
       "    </tr>\n",
       "    <tr>\n",
       "      <th>Profit</th>\n",
       "      <td>0.011225</td>\n",
       "      <td>0.484151</td>\n",
       "      <td>0.067495</td>\n",
       "      <td>1.000000</td>\n",
       "    </tr>\n",
       "  </tbody>\n",
       "</table>\n",
       "</div>"
      ],
      "text/plain": [
       "            Order Line     Sales  Quantity    Profit\n",
       "Order Line    1.000000 -0.000778 -0.003705  0.011225\n",
       "Sales        -0.000778  1.000000  0.200414  0.484151\n",
       "Quantity     -0.003705  0.200414  1.000000  0.067495\n",
       "Profit        0.011225  0.484151  0.067495  1.000000"
      ]
     },
     "execution_count": 102,
     "metadata": {},
     "output_type": "execute_result"
    }
   ],
   "source": [
    "# Kiểm tra độ tương quan giữa các cột\n",
    "correlation = newdf.corr()\n",
    "correlation"
   ]
  },
  {
   "cell_type": "code",
   "execution_count": 105,
   "id": "55c4b5d2",
   "metadata": {},
   "outputs": [
    {
     "data": {
      "text/plain": [
       "<Axes: >"
      ]
     },
     "execution_count": 105,
     "metadata": {},
     "output_type": "execute_result"
    },
    {
     "data": {
      "image/png": "[encoded data removed]",
      "text/plain": [
       "<Figure size 640x480 with 2 Axes>"
      ]
     },
     "metadata": {},
     "output_type": "display_data"
    }
   ],
   "source": [
    "sns.heatmap(correlation, annot=True)"
   ]
  },
  {
   "cell_type": "code",
   "execution_count": 96,
   "id": "3577facd",
   "metadata": {},
   "outputs": [
    {
     "data": {
      "text/plain": [
       "np.int64(0)"
      ]
     },
     "execution_count": 96,
     "metadata": {},
     "output_type": "execute_result"
    }
   ],
   "source": [
    "# Kiểm tra thông tin dupplicate\n",
    "df.duplicated().sum()"
   ]
  },
  {
   "cell_type": "code",
   "execution_count": 89,
   "id": "45a6b087",
   "metadata": {},
   "outputs": [
    {
     "name": "stdout",
     "output_type": "stream",
     "text": [
      "Số lượng đơn hàng: 5009\n",
      "Số lượng khách hàng: 793\n"
     ]
    }
   ],
   "source": [
    "# Có tất cả bao nhiêu đơn hàng? Có tất cả bao nhiêu khách hàng đã mua hàng?\n",
    "totalOrder = df['Order ID'].nunique()\n",
    "totalCustomer = df['Customer ID'].nunique()\n",
    "print(f\"Số lượng đơn hàng: {totalOrder}\")\n",
    "print(f\"Số lượng khách hàng: {totalCustomer}\")"
   ]
  },
  {
   "cell_type": "code",
   "execution_count": 90,
   "id": "4823f843",
   "metadata": {},
   "outputs": [
    {
     "name": "stdout",
     "output_type": "stream",
     "text": [
      "Category được mua nhiều nhất: Office Supplies\n"
     ]
    }
   ],
   "source": [
    "# Bài tập 2: Category nào được mua nhiều nhất?\n",
    "grouped = df.groupby('Category').agg(countCategory = ('Category', 'count'))\\\n",
    "            .sort_values('countCategory', ascending= False)\\\n",
    "            .reset_index()\\\n",
    "            .loc[0,'Category']\n",
    "print(f\"Category được mua nhiều nhất: {grouped}\")"
   ]
  },
  {
   "cell_type": "code",
   "execution_count": 91,
   "id": "b08d176c",
   "metadata": {},
   "outputs": [
    {
     "name": "stdout",
     "output_type": "stream",
     "text": [
      "Subcategory được mua nhiều nhất: Binders\n"
     ]
    }
   ],
   "source": [
    "# Bài tập 3: Subcategory nào được mua nhiều nhất?\n",
    "grouped = df.groupby('Sub-Category').agg(countCategory = ('Sub-Category', 'count'))\\\n",
    "            .sort_values('countCategory', ascending= False)\\\n",
    "            .reset_index()\\\n",
    "            .loc[0, 'Sub-Category']\n",
    "print(f\"Subcategory được mua nhiều nhất: {grouped}\")"
   ]
  },
  {
   "cell_type": "code",
   "execution_count": 92,
   "id": "7a6f1652",
   "metadata": {},
   "outputs": [
    {
     "name": "stdout",
     "output_type": "stream",
     "text": [
      "Tổng doanh số: 2293990.18\n"
     ]
    }
   ],
   "source": [
    "# Bài tập 4: Tổng doanh số của tất cả các đơn hàng là bao nhiêu?\n",
    "sumSales = df['Sales'].sum()\n",
    "print(f\"Tổng doanh số: {sumSales}\")"
   ]
  },
  {
   "cell_type": "code",
   "execution_count": 93,
   "id": "210afe59",
   "metadata": {},
   "outputs": [
    {
     "name": "stdout",
     "output_type": "stream",
     "text": [
      "Tổng doanh số: 286397.79000000004\n"
     ]
    }
   ],
   "source": [
    "# Bài tập 5: Tổng lợi nhuận của tất cả các đơn hàng là bao nhiêu?\n",
    "sumProfit = df['Profit'].sum()\n",
    "print(f\"Tổng doanh số: {sumProfit}\")"
   ]
  },
  {
   "cell_type": "code",
   "execution_count": 94,
   "id": "d3d7def1",
   "metadata": {},
   "outputs": [
    {
     "data": {
      "text/html": [
       "<div>\n",
       "<style scoped>\n",
       "    .dataframe tbody tr th:only-of-type {\n",
       "        vertical-align: middle;\n",
       "    }\n",
       "\n",
       "    .dataframe tbody tr th {\n",
       "        vertical-align: top;\n",
       "    }\n",
       "\n",
       "    .dataframe thead th {\n",
       "        text-align: right;\n",
       "    }\n",
       "</style>\n",
       "<table border=\"1\" class=\"dataframe\">\n",
       "  <thead>\n",
       "    <tr style=\"text-align: right;\">\n",
       "      <th></th>\n",
       "      <th>totalSales</th>\n",
       "      <th>totalProfit</th>\n",
       "    </tr>\n",
       "    <tr>\n",
       "      <th>Category</th>\n",
       "      <th></th>\n",
       "      <th></th>\n",
       "    </tr>\n",
       "  </thead>\n",
       "  <tbody>\n",
       "    <tr>\n",
       "      <th>Furniture</th>\n",
       "      <td>738792.35</td>\n",
       "      <td>18451.25</td>\n",
       "    </tr>\n",
       "    <tr>\n",
       "      <th>Office Supplies</th>\n",
       "      <td>719043.73</td>\n",
       "      <td>122490.88</td>\n",
       "    </tr>\n",
       "    <tr>\n",
       "      <th>Technology</th>\n",
       "      <td>836154.10</td>\n",
       "      <td>145455.66</td>\n",
       "    </tr>\n",
       "  </tbody>\n",
       "</table>\n",
       "</div>"
      ],
      "text/plain": [
       "                 totalSales  totalProfit\n",
       "Category                                \n",
       "Furniture         738792.35     18451.25\n",
       "Office Supplies   719043.73    122490.88\n",
       "Technology        836154.10    145455.66"
      ]
     },
     "execution_count": 94,
     "metadata": {},
     "output_type": "execute_result"
    }
   ],
   "source": [
    "# Bài tập 6: Tổng doanh số và lợi nhuận của từng Category là bao nhiêu? \n",
    "grouped = df.groupby('Category').agg(\n",
    "             totalSales = ('Sales', 'sum'),\n",
    "             totalProfit = ('Profit', 'sum'),\n",
    ")\n",
    "grouped"
   ]
  }
 ],
 "metadata": {
  "kernelspec": {
   "display_name": "Python 3",
   "language": "python",
   "name": "python3"
  },
  "language_info": {
   "codemirror_mode": {
    "name": "ipython",
    "version": 3
   },
   "file_extension": ".py",
   "mimetype": "text/x-python",
   "name": "python",
   "nbconvert_exporter": "python",
   "pygments_lexer": "ipython3",
   "version": "3.13.2"
  }
 },
 "nbformat": 4,
 "nbformat_minor": 5
}
